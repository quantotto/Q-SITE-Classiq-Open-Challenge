{
 "cells": [
  {
   "cell_type": "markdown",
   "metadata": {},
   "source": [
    "# QSite 2024 - Classiq Open Challenge Solution - DRAFT\n",
    "\n",
    "*Submitted by: Yevgeny Menaker, team: Quantotto*\n",
    "\n",
    "The work is tracked in the following GitHub repository:\n",
    "https://github.com/quantotto/Q-SITE-Classiq-Open-Challenge"
   ]
  },
  {
   "cell_type": "markdown",
   "metadata": {},
   "source": [
    "In this challenge, we will be solving a differential equation using Quantum Computing algorithm and implementing on the Classiq platform. The work focuses on the scientific paper titled \"[A Quantum Algorithm for Solving Linear Differential Equations: Theory and Experiment](https://journals.aps.org/pra/abstract/10.1103/PhysRevA.101.032307)\", presented by Tao Xin, et al. in 2020.\n",
    "\n",
    "We are given the following second order differential equation representic a harmonic oscillator:\n",
    "\n",
    "$y'' + {\\omega}y = 0$,  $y(0) = 1$,  $y'(0) = 1$"
   ]
  },
  {
   "cell_type": "markdown",
   "metadata": {},
   "source": [
    "We should solve it using the Quantum Algorithm from the above mentioned paper for the case of ${\\omega}=1$ and use the solution to evaluate the kinetic and potential energies in the time interval of $(0, 1)$. We will also study how the energies vary when we use different boundary conditions for $y(0), y'(0)$. Finally, we will leverage the Classiq platform to optimize our quantum circuits for width and depth."
   ]
  },
  {
   "cell_type": "markdown",
   "metadata": {},
   "source": [
    "This work is organized in four parts. Part I shows analytical solution for the above equation. Having precise solution will serve as reference for our quantum algorithm and will allow estimating the accuracy of the produced results. In Part II, we will formulate the problem as LDE (Linear Differential Equation) and present a simplified version of quantum algorithm solving the equation. Part III is the heart of this work, where we are solving the LDE using the Taylor series expansion. We create a Quantum model on Classiq platform implementing the approach from the scientific paper. We analyze the accuracy of the algorithm compared to the analytical solution for different orders of approximation. Then, we calculate the energies for various boundary conditions. Part IV concludes this work with optimization of Quantum Circuit for depth and width with help of Classiq tool."
   ]
  },
  {
   "cell_type": "markdown",
   "metadata": {},
   "source": [
    "## Part I - Analytical Solution"
   ]
  },
  {
   "cell_type": "markdown",
   "metadata": {},
   "source": [
    "Given the conditon of ${\\omega}=1$ we are solving the following second order LDE:\n",
    "\n",
    "$y'' + y = 0$\n",
    "\n",
    "There are multiple ways to obtain the closed solution for $y(t)$. Let's use the method of characteristic polynom. For this equation we are obtaining the following quadratic polynomial:\n",
    "\n",
    "$r^2 + 1 = 0$\n",
    "\n",
    "It is easy to see that the solutions of this equation are two complex numbers: $r={\\pm}i$. For the case of two complex roots of characteristic polynom, the general solution of the differntial equation is linear combination of trigonometric functions:\n",
    "\n",
    "$y(t) = {C_1 \\cdot cos(t)} + {C_2 \\cdot sin(t)}$"
   ]
  },
  {
   "cell_type": "markdown",
   "metadata": {},
   "source": [
    "Solving for $C_1$ and $C_2$ with boundary conditions of $y(0) = 1$,  $y'(0) = 1$, we obtain:\n",
    "\n",
    "$y(t) = cos(t) + sin(t)$\n",
    "\n",
    "For more general case of boundary conditions $y(0) = a, y'(0) = b$ the solution takes the following form:\n",
    "\n",
    "$y(t) = a \\cdot cos(t) + b \\cdot sin(t)$"
   ]
  },
  {
   "cell_type": "markdown",
   "metadata": {},
   "source": [
    "For calculation of energy of harmonic oscillation we will need the $k$ and $m$ values for spring coefficient and mass respectively. Since $\\omega=1$ we can conclude that $k=m=1$ because omega is given by $\\omega=\\sqrt{\\frac {k}{m}}=1$ which trivially leads to $k=m=1$.\n",
    "\n",
    "The formulas for energy calculation that we will use in the next parts are:\n",
    "\n",
    "Potential energy: $U = \\frac{k \\cdot x^2}{2} = \\frac{x^2}{2} = \\frac{{y(t)}^2}{2}$\n",
    "\n",
    "Kinetic energy: $K = \\frac{m \\cdot v^2}{2} = \\frac{v^2}{2} = \\frac{{y'(t)}^2}{2}$\n",
    "\n",
    "where $v$ is the velocity and it is given by first derivative of y(t)."
   ]
  },
  {
   "cell_type": "markdown",
   "metadata": {},
   "source": [
    "## Part II - Linear Differential Equation - Matrix Form\n",
    "\n",
    "In order to solve a differential equation on Quantum Computer, we need to formulate it in the language it naturally understands. Hence, we have to switch to Linear Algebra. LDEs can be formulated as a system of linear equations:\n",
    "\n",
    "$\\frac{d}{dt}y = M \\cdot y + b$\n",
    "\n",
    "Where $y$ is N-dimensional vector, $M$ is $N \\times N$ matrix. N is order of differential equation. Hence, $N=2$ in our case."
   ]
  },
  {
   "cell_type": "markdown",
   "metadata": {},
   "source": [
    "After re-writing the LDE as $y'' = -y$, our second order differential equation can be represented in matrix form and using the vectors with up to first degree derivatives:\n",
    "\n",
    "$\\frac{d}{dt}\\begin{pmatrix}\n",
    "  y \\\\\n",
    "  y'\n",
    "\\end{pmatrix} = \\begin{pmatrix}\n",
    "  0 & 1\\\\\n",
    "  -1 & 0\n",
    "\\end{pmatrix}\\cdot \\begin{pmatrix}\n",
    "  y \\\\\n",
    "  y'\n",
    "\\end{pmatrix}$"
   ]
  },
  {
   "cell_type": "markdown",
   "metadata": {},
   "source": [
    ">NOTE: Since we don't have any constant terms in the original equation, $b=0$. We will use this fact, when simplifying the quantum circuit."
   ]
  },
  {
   "cell_type": "markdown",
   "metadata": {},
   "source": [
    "A well known fact that is used in the scientific paper is that the solution of this differential equation can be obtained through matrix exponentiation:\n",
    "\n",
    "$y = e^{M \\cdot t}$\n",
    "\n",
    "After careful examination of our $M = \\begin{pmatrix}\n",
    "  0 & 1\\\\\n",
    "  -1 & 0\n",
    "\\end{pmatrix}$, we notice that it is actually Pauli-Y up to $-i$ factor. So, the solution take the following form:\n",
    "\n",
    "$y = e^{-iY \\cdot t}$\n",
    "\n",
    "Pauli exponentiation can be effectively realized on Quantum Computer with single qubit gate. Effectively, we can leverage the RY operation. To remind, RY is dependent on the angle $\\theta$ and represented by the $2 \\times 2$ matrix:\n",
    "\n",
    "$RY(\\theta) = \\begin{pmatrix}\n",
    "  cos(\\frac{\\theta}{2}) & -sin(\\frac{\\theta}{2})\\\\\n",
    "  -sin(\\frac{\\theta}{2}) & cos(\\frac{\\theta}{2})\n",
    "\\end{pmatrix}$\n",
    "\n",
    "From this:\n",
    "\n",
    "$e^{-iY \\cdot t} = RY(2t) = \\begin{pmatrix}\n",
    "  cos(t) & -sin(t)\\\\\n",
    "  -sin(t) & cos(t)\n",
    "\\end{pmatrix}$\n",
    "\n",
    "So, if we evolve the $\\ket {y_0}$ vector representing the boundary conditions, we should obtain the solution.\n",
    "\n",
    "$\\ket {y_0} = \\frac{1}{\\sqrt 2} \\begin{pmatrix}\n",
    "  1 \\\\\n",
    "  1\n",
    "\\end{pmatrix}$\n",
    "\n",
    "Note that we applied the normalization condition of $\\frac{1}{\\sqrt 2}$ for $\\ket {y_0}$.\n",
    "\n",
    "We can easily implement this calculate to obtain the desired solution up to normalization factor (norm of $\\ket {y_0}$).\n",
    "\n",
    "$RY(2t)\\ket {y_0} = \\frac{1}{\\sqrt 2}\\begin{pmatrix}\n",
    "  cos(t) & -sin(t)\\\\\n",
    "  -sin(t) & cos(t)\n",
    "\\end{pmatrix}\\begin{pmatrix}\n",
    "  1 \\\\\n",
    "  1\n",
    "\\end{pmatrix} = \\frac{1}{\\sqrt 2}\\begin{pmatrix}\n",
    "  cos(t)-sin(t)\\\\\n",
    "  sin(t)+cos(t)\n",
    "\\end{pmatrix}$"
   ]
  },
  {
   "cell_type": "markdown",
   "metadata": {},
   "source": [
    "Multiplying by the norm of $\\ket {y_0}$ ($\\sqrt 2$), we retrieve the solution that we derived in Part I.\n",
    "\n",
    "Realizing this a Quantum Model is farly easy on Classiq platform:\n",
    "- We prepare qubit phi in the $\\ket +$ state\n",
    "- Then we apply RY with $\\theta = 2t$"
   ]
  },
  {
   "cell_type": "code",
   "execution_count": 3,
   "metadata": {},
   "outputs": [],
   "source": [
    "from classiq import *\n",
    "import numpy as np\n",
    "\n",
    "t = 2 * np.pi / 3\n",
    "@qfunc\n",
    "def main(phi: Output[QBit]):\n",
    "    allocate(1, phi)\n",
    "    H(phi)\n",
    "    RY(2*t, phi)"
   ]
  },
  {
   "cell_type": "markdown",
   "metadata": {},
   "source": [
    "We can then create, synthesize and test the model using State Vector simulator. It shows that the results of quantum simulation agree with the analytical solution."
   ]
  },
  {
   "cell_type": "code",
   "execution_count": 2,
   "metadata": {},
   "outputs": [
    {
     "name": "stdout",
     "output_type": "stream",
     "text": [
      "Analytical=0.36602540378443893; Quantum amps=[-1.3660254+0.j  0.3660254+0.j]\n",
      "(0.36602540378443965+0j)\n"
     ]
    }
   ],
   "source": [
    "from classiq.execution import (\n",
    "    ClassiqBackendPreferences,\n",
    "    ClassiqSimulatorBackendNames,\n",
    "    ExecutionPreferences,\n",
    ")\n",
    "backend_preferences = ClassiqBackendPreferences(\n",
    "    backend_name=ClassiqSimulatorBackendNames.SIMULATOR_STATEVECTOR\n",
    ")\n",
    "quantum_model = create_model(main,\n",
    "    execution_preferences=ExecutionPreferences(\n",
    "        num_shots=1024, backend_preferences=backend_preferences\n",
    "    )\n",
    ")\n",
    "quantum_program = synthesize(quantum_model)\n",
    "res = execute(quantum_program)\n",
    "analytical = np.cos(t) + np.sin(t)\n",
    "amps = np.array([ps.amplitude for ps in res.result()[0].value.parsed_state_vector]) * np.linalg.norm([1.0, 1.0])\n",
    "print(f\"Analytical={analytical}; Quantum amps={amps}\")\n",
    "print(complex(res.result()[0].value.state_vector[\"1\"]) * np.linalg.norm([1.0, 1.0]))"
   ]
  },
  {
   "cell_type": "markdown",
   "metadata": {},
   "source": [
    "With this preliminary background out of the way, we are now going to apply the approach from the scientific paper to solve this differential equation. We will use the Matrix form developed in this part."
   ]
  },
  {
   "cell_type": "markdown",
   "metadata": {},
   "source": [
    "## Part 3 - Quantum Algorithm from scientific paper (to be elaborated)"
   ]
  },
  {
   "cell_type": "markdown",
   "metadata": {},
   "source": [
    "The paper suggest solving the differential equation using the Taylor series expansion up to the desired order of approximation. Higher orders require more qubits. According to the algorithm, we have the following qubits allocations:\n",
    "- 1 ancilla qubit\n",
    "- $\\log_2(k+1)$ approximator qubits, where $k$ is order of approximation\n",
    "- 1 qubit phi (work qubit) which encodes both $\\ket {y_0}$ and $b$ (in our case $b=0$)"
   ]
  },
  {
   "cell_type": "markdown",
   "metadata": {},
   "source": [
    "Our goal is to implement the quantum circuit presented in the paper. See Figure below taken from the paper.\n",
    "\n",
    "![Figure 1 - quantum circuit solving differential equation](qc.png)"
   ]
  },
  {
   "cell_type": "markdown",
   "metadata": {},
   "source": [
    "All qubits start in the $\\ket 0$ state.\n",
    "\n",
    "We will now derive all the operators required for solving our differential equation. We will see that, in a way, the suggested algorithm is implementing Linear Combination of Unitaries, where we use Taylor expansion coefficients and the unitaries are powers of matrix A (that is derived from matrix M - see previous section for the matrix form of differential equation)\n",
    "\n",
    "### Operator V\n",
    "\n",
    "V on ancilla puts it into superposition and is used as control qubit to encode $y_0$ and $b$. Since $b$ is zero in our case, we actually only need to encode $y_0$. V ends up being Z operator, which effective leaves the $\\ket 0$ state intact on ancilla. We do still include it in the implementation for completeness.\n",
    "\n",
    "### Operator Vs1\n",
    "\n",
    "Vs1 on the approximator qubits encode Taylor coefficients that control the operations on the $y_0$ part of of superposition. The number of coefficients depend on the order of approximation.\n",
    "\n",
    "### Operator Vs2\n",
    "\n",
    "We can skip the definition of Vs2 because it is only needed in case of non-zero b.\n",
    "\n",
    "### Operator Um\n",
    "\n",
    "The $U_m$ operator is simply $A^m$ where A is unitary derived from M in the matrix form of differential equation."
   ]
  },
  {
   "cell_type": "markdown",
   "metadata": {},
   "source": [
    "Classiq allows us to simplify the implementation using the following powerful statements:\n",
    "\n",
    "- `control` to implement multi-qubit control operations (e.g. we need them to apply operators $U_m$)\n",
    "- `within_apply` to implement $V^\\dagger U V$ (in this case, we need to apply the inverse of Vs1 after the series of controlled $U_m$ operations)\n",
    "- `repeat` to loop through multiple $U_m$ operators\n",
    "- `power` to implement $U_m = A^m$"
   ]
  },
  {
   "cell_type": "markdown",
   "metadata": {},
   "source": [
    "Below is our model implementation. There are some helper functions used. In order not to clutter the code of the model, the helper functions are moved to Appendix A.\n",
    "\n",
    "The algorithm has three main parts:\n",
    "- Encode qubits\n",
    "- Approximate\n",
    "- Decode\n",
    "\n",
    "After that, we post-select the work qubits values for the sub-space of ancilla and approximator qubits in 0 states."
   ]
  },
  {
   "cell_type": "markdown",
   "metadata": {},
   "source": [
    "We split the work into three functions:\n",
    "\n",
    "- `encode` applies initial operator V on ancilla and calls `prep_qubits` controlling on value 0 of the ancilla\n",
    "- `prep_qubits` applies Vs1 unitary\n",
    "- `approximate` prepares the phi qubit in `y_0` (in the code it is `x_0`) state and repetedly applies the $U_m$ operators\n",
    "\n",
    "```python\n",
    "@qfunc\n",
    "def prep_qubits(Vs1: CArray[CArray[CReal]], approximator: QArray, phi: QBit):\n",
    "    unitary(Vs1, approximator)\n",
    "\n",
    "@qfunc\n",
    "def encode(V: CArray[CReal], Vs1: CArray[CArray[CReal]], ancilla: QBit, approximator: QArray, phi: QBit):\n",
    "    unitary(V, ancilla)\n",
    "    control(ctrl=ancilla==0, stmt_block=lambda: prep_qubits(Vs1, approximator, phi))\n",
    "\n",
    "@qfunc\n",
    "def approximate(A: CArray[CArray[CReal]], normalized_x0: CArray[CReal], approximator: QNum, phi: QBit):\n",
    "    inplace_prepare_amplitudes(normalized_x0, bound=0.01, target=phi)\n",
    "    repeat(2 ** approximator.size, lambda i: control(approximator==i, lambda: power(i, lambda: unitary(A, phi))))\n",
    "```"
   ]
  },
  {
   "cell_type": "markdown",
   "metadata": {},
   "source": [
    "The work is controlled from the `main` function of the model, which uses the `within_apply` to drive the entire implementation.\n",
    "\n",
    "```python\n",
    "# inputs for y'' + y = 0\n",
    "x0 = [1.0, 1.0]       # Boundary conditions\n",
    "A = [[0, 1], [-1, 0]]              # Linear equations (unitary)\n",
    "k = 7                              # order of approximation\n",
    "t = np.pi / 3\n",
    "total_qubits = int(np.log2(k+1)) + 2\n",
    "Cs = calculate_Cs(t, k)\n",
    "V = calculate_V()\n",
    "Vs1 = calculate_Vs1(Cs)\n",
    "normalized_x0 = normalize(x0)\n",
    "\n",
    "@qfunc\n",
    "def main(\n",
    "    phi: Output[QBit],\n",
    "    approximator: Output[QNum],\n",
    "    ancilla: Output[QBit]\n",
    "):\n",
    "    allocate(1, phi)\n",
    "    allocate(int(np.log2(k+1)), approximator)\n",
    "    allocate(1, ancilla)\n",
    "    within_apply(\n",
    "        within=lambda: encode(V, Vs1, ancilla, approximator, phi),\n",
    "        apply=lambda: approximate(A, normalized_x0, approximator, phi)\n",
    "    )\n",
    "```\n"
   ]
  },
  {
   "cell_type": "markdown",
   "metadata": {},
   "source": [
    "In order to obtain the solutions for different values of $t$, we vary the parameters in the loop. The following function `calculate_energies` represents a single execution of the model with parameter $t$. It runs the model, extracts the results from the relevant amplitudes and calculates the Kinetic and Potential energies using the formulas that we presented in Part I.\n",
    "\n",
    "Potential energy: $U = \\frac{k \\cdot x^2}{2} = \\frac{x^2}{2} = \\frac{{y(t)}^2}{2}$\n",
    "\n",
    "Kinetic energy: $K = \\frac{m \\cdot v^2}{2} = \\frac{v^2}{2} = \\frac{{y'(t)}^2}{2}$\n",
    "\n",
    "```python\n",
    "def state_vector_keys(qubits: int) -> tuple[str, str]:\n",
    "    return \"0\" * qubits, \"0\" * (qubits-1) + \"1\"\n",
    "\n",
    "backend_preferences = ClassiqBackendPreferences(\n",
    "    backend_name=ClassiqSimulatorBackendNames.SIMULATOR_STATEVECTOR\n",
    ")\n",
    "\n",
    "def calculate_energies(t) -> tuple[float, float, float]:\n",
    "    # Calculate kinetic and potential energy at time t\n",
    "    # We return a tuple of kinetic, potential (calculated by quantum algorithm)\n",
    "    # and analytical solution for x (for reference)\n",
    "    # Returns: tuple[kinetic, potential, x_analytical]\n",
    "\n",
    "    # Calculate model parameters\n",
    "    global Cs, V, Vs1, normalized_x0\n",
    "    Cs = calculate_Cs(t, k)\n",
    "    V = calculate_V()\n",
    "    Vs1 = calculate_Vs1(Cs)\n",
    "    normalized_x0 = normalize(x0)\n",
    "\n",
    "    # Create, synthesize and execute the model\n",
    "    quantum_model = create_model(main,\n",
    "        execution_preferences=ExecutionPreferences(\n",
    "            num_shots=1024, backend_preferences=backend_preferences\n",
    "        )\n",
    "    )\n",
    "    quantum_program = synthesize(quantum_model)\n",
    "    res = execute(quantum_program)\n",
    "\n",
    "    # post-select results with ancilla and approximator qubits equal to 0\n",
    "    amps = [\n",
    "        ps.amplitude for ps in res.result()[0].value.parsed_state_vector\n",
    "        if ps[\"approximator\"] == 0 and ps[\"ancilla\"] == 0\n",
    "    ]\n",
    "    # Re-scale amplitudes\n",
    "    total_prob = (amps[0] * amps[0].conjugate() + amps[1] * amps[1].conjugate())\n",
    "    \n",
    "    # Extract position and velocity (position is the y(t) and velocity y'(t))\n",
    "    # Position is amplitude of phi=0 and velocity is amplitude of phi=1\n",
    "    X_key, V_key = state_vector_keys(total_qubits)\n",
    "    X_amp = complex(res.result()[0].value.state_vector[X_key]) / np.sqrt(total_prob)\n",
    "    V_amp = complex(res.result()[0].value.state_vector[V_key]) / np.sqrt(total_prob)\n",
    "\n",
    "    # Calculate real values and rescale the values by norm of x0\n",
    "    Xt = np.sqrt((X_amp * X_amp.conjugate()).real) * norm(x0)\n",
    "    Vt = np.sqrt((V_amp * V_amp.conjugate()).real) * norm(x0)\n",
    "    return (Vt ** 2) / 2, (Xt ** 2) / 2, (analytical_solution(x0, t) ** 2) / 2\n",
    "```\n"
   ]
  },
  {
   "cell_type": "markdown",
   "metadata": {},
   "source": [
    "Here we run it in a loop for the (0, 1) interval.\n",
    "\n",
    "```python\n",
    "t_axis = np.linspace(0.1, 1.0, 10)\n",
    "ks, ps, pas = [], [], []\n",
    "for t in t_axis:\n",
    "    kinetic, potential, potential_analytical = calculate_energies(t)\n",
    "    ks.append(kinetic)\n",
    "    ps.append(potential)\n",
    "    pas.append(potential_analytical)\n",
    "```\n"
   ]
  },
  {
   "cell_type": "markdown",
   "metadata": {},
   "source": [
    "Executing the code for different values of boundary conditions ($y_0$) produced the results that agree with the classical (analytical) solution. See figures below for Kinetic and Potential energies for two choices of $y_0$: (1.0, 1.0) and (1.0, 5.0)\n",
    "\n",
    "![Energies for y0=(1, 1)](energies_1_1.png)\n",
    "![Energies for y0=(1, 5)](energies_1_5.png)"
   ]
  },
  {
   "cell_type": "markdown",
   "metadata": {},
   "source": [
    "Note that the paper had a few discrepancies that were discovered during the implementation phase. The implemented algorithm pretty closely resembles the one outlined in the paper, but there were a few modifications, such as adjusting the scaling factor."
   ]
  },
  {
   "cell_type": "markdown",
   "metadata": {},
   "source": [
    "## Part 4 - Quantum Circuit Analysis and Optimizations - TBD\n",
    "\n",
    "Following the work of creating and executing the quantum circuit, we will now work on analyzing its depth and width and see if there any ways to optimize them. It is important to note that while building the model in the previous part, we have already made a few optimizations based on the actual equation we are solving. Now, we will use Classiq platform tools to take the optimization to the next level."
   ]
  }
 ],
 "metadata": {
  "kernelspec": {
   "display_name": "clqenv",
   "language": "python",
   "name": "python3"
  },
  "language_info": {
   "codemirror_mode": {
    "name": "ipython",
    "version": 3
   },
   "file_extension": ".py",
   "mimetype": "text/x-python",
   "name": "python",
   "nbconvert_exporter": "python",
   "pygments_lexer": "ipython3",
   "version": "3.10.11"
  }
 },
 "nbformat": 4,
 "nbformat_minor": 2
}
