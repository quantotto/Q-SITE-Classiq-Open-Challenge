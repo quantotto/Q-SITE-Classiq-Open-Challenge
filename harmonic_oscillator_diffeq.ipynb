{
 "cells": [
  {
   "cell_type": "markdown",
   "metadata": {},
   "source": [
    "# Classiq Challenge Solution\n",
    "\n",
    "Submitted by team Quantotto"
   ]
  },
  {
   "cell_type": "code",
   "execution_count": 1,
   "metadata": {},
   "outputs": [],
   "source": [
    "from classiq import *\n",
    "from classiq.execution import (\n",
    "    ClassiqBackendPreferences,\n",
    "    ClassiqSimulatorBackendNames,\n",
    "    ExecutionPreferences,\n",
    ")\n",
    "import numpy as np\n",
    "import math"
   ]
  },
  {
   "cell_type": "code",
   "execution_count": 2,
   "metadata": {},
   "outputs": [],
   "source": [
    "def norm(a):\n",
    "    return np.linalg.norm(a)\n",
    "\n",
    "def normalize(a):\n",
    "    return list(np.array(a) / norm(a))\n",
    "\n",
    "def sqrt_sum(a):\n",
    "    return np.sqrt(np.sum(np.array(a)))\n",
    "\n",
    "def create_unitary(v):\n",
    "    k = len(v)\n",
    "    added_rows = []\n",
    "    for i in range(k-1):\n",
    "        row = [0] * k\n",
    "        row[i] = 1\n",
    "        added_rows.append(row)\n",
    "    At = np.array([\n",
    "        normalize(v),\n",
    "        *added_rows\n",
    "    ]).T\n",
    "    n = At.shape[1]\n",
    "    # Use Gram-Schmidt orthogonalization\n",
    "    # Credits: https://www.mycompiler.io/view/Di9dsPfR4gy\n",
    "    for i in range(1, n):\n",
    "        for j in range(i):\n",
    "            At[:, i] = At[:, i] - np.dot(At[:, j], At[:, i]) * At[:, j]\n",
    "            At[:, i] = At[:, i] / np.linalg.norm(At[:, i])\n",
    "    return At.T.tolist()"
   ]
  },
  {
   "cell_type": "code",
   "execution_count": 3,
   "metadata": {},
   "outputs": [],
   "source": [
    "def calculate_Cs(x0, A, t, k):\n",
    "    x0_norm = norm(x0)\n",
    "    A_norm = norm(A)\n",
    "    arr = [x0_norm * ((A_norm * t) ** i) / math.factorial(i) for i in range(k+1)]\n",
    "    return arr\n",
    "\n",
    "def calculate_V(Cs):\n",
    "    return [[1, 0], [0, -1]]\n",
    "\n",
    "def calculate_Vs1(Cs):\n",
    "    first_row = normalize(np.sqrt(np.array(Cs)).tolist())\n",
    "    return create_unitary(first_row)"
   ]
  },
  {
   "cell_type": "code",
   "execution_count": 4,
   "metadata": {},
   "outputs": [
    {
     "data": {
      "text/plain": [
       "array([2., 3., 4.])"
      ]
     },
     "execution_count": 4,
     "metadata": {},
     "output_type": "execute_result"
    }
   ],
   "source": [
    "arr = np.array([4, 9, 16])\n",
    "np.sqrt(arr)"
   ]
  },
  {
   "cell_type": "code",
   "execution_count": 5,
   "metadata": {},
   "outputs": [],
   "source": [
    "@qfunc\n",
    "def prep_qubits(Vs1: CArray[CArray[CReal]], normalized_x0: CArray[CReal], approximator: QArray, phi: QBit):\n",
    "    unitary(Vs1, approximator)\n",
    "    inplace_prepare_amplitudes(normalized_x0, bound=0.01, target=phi)\n",
    "\n",
    "@qfunc\n",
    "def encode(V: CArray[CReal], Vs1: CArray[CArray[CReal]], normalized_x0: CArray[CReal], ancilla: QBit, approximator: QArray, phi: QBit):\n",
    "    unitary(V, ancilla)\n",
    "    control(ctrl=ancilla==0, stmt_block=lambda: prep_qubits(Vs1, normalized_x0, approximator, phi))\n",
    "\n",
    "@qfunc\n",
    "def approximate(A: CArray[CArray[CReal]], approximator: QNum, phi: QBit):\n",
    "    repeat(2, lambda i: control(approximator==i, lambda: power(i, lambda: unitary(A, phi))))\n"
   ]
  },
  {
   "cell_type": "code",
   "execution_count": 47,
   "metadata": {},
   "outputs": [],
   "source": [
    "# inputs for y'' + y = 0\n",
    "x0 = [1.0, 1.0]                    # Boundary conditions\n",
    "A = [[0, 1], [-1, 0]]              # Linear equations (unitary)\n",
    "k = 3                              # order of approximation\n",
    "t = 0.2\n",
    "Cs = calculate_Cs(x0, A, t, k)\n",
    "V = calculate_V(Cs)\n",
    "Vs1 = calculate_Vs1(Cs)\n",
    "normalized_x0 = normalize(x0)\n",
    "\n",
    "@qfunc\n",
    "def main(\n",
    "    phi: Output[QBit],\n",
    "    approximator: Output[QNum],\n",
    "    ancilla: Output[QBit]\n",
    "):\n",
    "    allocate(1, phi)\n",
    "    allocate(2, approximator)\n",
    "    allocate(1, ancilla)\n",
    "    within_apply(\n",
    "        within=lambda: encode(V, Vs1, normalized_x0, ancilla, approximator, phi),\n",
    "        apply=lambda: approximate(A, approximator, phi)\n",
    "    )"
   ]
  },
  {
   "cell_type": "code",
   "execution_count": 48,
   "metadata": {},
   "outputs": [],
   "source": [
    "qmod = create_model(main)\n",
    "qprog = synthesize(qmod)\n",
    "show(qprog)"
   ]
  },
  {
   "cell_type": "code",
   "execution_count": 49,
   "metadata": {},
   "outputs": [],
   "source": [
    "write_qmod(create_model(main), \"diffeq_1st_order_approx\")"
   ]
  },
  {
   "cell_type": "code",
   "execution_count": 50,
   "metadata": {},
   "outputs": [
    {
     "name": "stdout",
     "output_type": "stream",
     "text": [
      "Analytical: 1.0487; Quantum: 0.0731; t=0.05; N^2=1.5178324296123613\n",
      "Analytical: 1.0948; Quantum: 0.1502; t=0.1; N^2=1.6290223646634927\n",
      "Analytical: 1.1382; Quantum: 0.2299; t=0.15; N^2=1.74828336752649\n",
      "Analytical: 1.1787; Quantum: 0.3105; t=0.2; N^2=1.8761154382013525\n",
      "Analytical: 1.2163; Quantum: 0.3899; t=0.25; N^2=2.01301857668808\n",
      "Analytical: 1.2509; Quantum: 0.4662; t=0.3; N^2=2.159492782986674\n",
      "Analytical: 1.2823; Quantum: 0.5377; t=0.35; N^2=2.3160380570971326\n",
      "Analytical: 1.3105; Quantum: 0.6030; t=0.39999999999999997; N^2=2.4831543990194573\n",
      "Analytical: 1.3354; Quantum: 0.6614; t=0.44999999999999996; N^2=2.661341808753647\n",
      "Analytical: 1.3570; Quantum: 0.7015; t=0.49999999999999994; N^2=2.8511002862997024\n",
      "Analytical: 1.3752; Quantum: 0.6533; t=0.5499999999999999; N^2=3.052929831657623\n",
      "Analytical: 1.3900; Quantum: 0.6067; t=0.6; N^2=3.2673304448274094\n",
      "Analytical: 1.4013; Quantum: 0.5622; t=0.65; N^2=3.494802125809062\n",
      "Analytical: 1.4091; Quantum: 0.5202; t=0.7; N^2=3.7358448746025785\n",
      "Analytical: 1.4133; Quantum: 0.4811; t=0.75; N^2=3.9909586912079615\n",
      "Analytical: 1.4141; Quantum: 0.4449; t=0.7999999999999999; N^2=4.26064357562521\n",
      "Analytical: 1.4113; Quantum: 0.4116; t=0.85; N^2=4.5453995278543236\n",
      "Analytical: 1.4049; Quantum: 0.3810; t=0.9; N^2=4.845726547895303\n",
      "Analytical: 1.3951; Quantum: 0.3530; t=0.95; N^2=5.162124635748146\n",
      "Analytical: 1.3818; Quantum: 0.3274; t=1.0; N^2=5.495093791412859\n"
     ]
    }
   ],
   "source": [
    "\n",
    "\n",
    "\n",
    "backend_preferences = ClassiqBackendPreferences(\n",
    "    backend_name=ClassiqSimulatorBackendNames.SIMULATOR_STATEVECTOR\n",
    ")\n",
    "a_solutions = []\n",
    "q_solutions = []\n",
    "t_axis = np.linspace(0.05, 1, 20)\n",
    "for t in t_axis:\n",
    "    Cs = calculate_Cs(x0, A, t, k)\n",
    "    V = calculate_V(Cs)\n",
    "    Vs1 = calculate_Vs1(Cs)\n",
    "    normalized_x0 = normalize(x0)\n",
    "\n",
    "    quantum_model = create_model(main,\n",
    "        execution_preferences=ExecutionPreferences(\n",
    "            num_shots=1024, backend_preferences=backend_preferences\n",
    "        )\n",
    "    )\n",
    "    quantum_program = synthesize(quantum_model)\n",
    "    res = execute(quantum_program)\n",
    "    analytical = np.cos(t) + np.sin(t)\n",
    "    amps = [ps.amplitude for ps in res.result()[0].value.parsed_state_vector if ps[\"approximator\"] == 0 and ps[\"ancilla\"] == 0]\n",
    "    #Nsq = 0\n",
    "    #for i, c in enumerate(Cs):\n",
    "    #    Nsq += c / (norm(A) ** i)\n",
    "    #total_prob = (amps[0]*amps[0].conjugate() + amps[1] * amps[1].conjugate())\n",
    "    #Xt = np.sqrt((amps[1]*amps[1].conjugate() / total_prob).real)\n",
    "    #Xt = amps[0]\n",
    "    #quantum = Xt*Nsq\n",
    "    Nsq = sum(Cs)\n",
    "    quantum = np.sqrt(amps[1].imag ** 2 / (amps[0].imag ** 2 + amps[1].imag ** 2))\n",
    "    print(f\"Analytical: {analytical:.4f}; Quantum: {quantum:.4f}; t={t}; N^2={sum(Cs)}\")\n",
    "    a_solutions.append(analytical)\n",
    "    q_solutions.append(quantum)"
   ]
  },
  {
   "cell_type": "code",
   "execution_count": 51,
   "metadata": {},
   "outputs": [
    {
     "data": {
      "image/png": "[encoded data removed]",
      "text/plain": [
       "<Figure size 640x480 with 1 Axes>"
      ]
     },
     "metadata": {},
     "output_type": "display_data"
    }
   ],
   "source": [
    "from matplotlib import pyplot as plt\n",
    "\n",
    "plt.plot(t_axis, a_solutions)\n",
    "plt.plot(t_axis, q_solutions)\n",
    "plt.show()"
   ]
  },
  {
   "cell_type": "code",
   "execution_count": null,
   "metadata": {},
   "outputs": [],
   "source": [
    "amps = [ps.amplitude for ps in res.result()[0].value.parsed_state_vector if ps[\"approximator\"] == 0 and ps[\"ancilla\"] == 0]\n",
    "Nsq = sum(Cs)\n",
    "total_prob = (amps[0]*amps[0].conjugate() + amps[1] * amps[1].conjugate())\n",
    "Xt = np.sqrt((amps[0]*amps[0].conjugate() / total_prob).real)\n",
    "Xt*np.sqrt(Nsq)"
   ]
  },
  {
   "cell_type": "code",
   "execution_count": null,
   "metadata": {},
   "outputs": [],
   "source": [
    "analytical = np.cos(t) + np.sin(t)\n",
    "quantum = (np.sqrt(complex(sv[\"0000\"])*1j) + np.sqrt(complex(sv[\"0001\"])*1j)).real\n",
    "print(f\"Analytical: {analytical:.4f}; Quantum: {quantum:.4f}\")"
   ]
  },
  {
   "cell_type": "code",
   "execution_count": null,
   "metadata": {},
   "outputs": [],
   "source": [
    "np.cos(3 * np.pi / 8) + np.sin(3 * np.pi / 8)"
   ]
  },
  {
   "cell_type": "code",
   "execution_count": null,
   "metadata": {},
   "outputs": [],
   "source": []
  }
 ],
 "metadata": {
  "kernelspec": {
   "display_name": "clqenv",
   "language": "python",
   "name": "python3"
  },
  "language_info": {
   "codemirror_mode": {
    "name": "ipython",
    "version": 3
   },
   "file_extension": ".py",
   "mimetype": "text/x-python",
   "name": "python",
   "nbconvert_exporter": "python",
   "pygments_lexer": "ipython3",
   "version": "3.10.11"
  }
 },
 "nbformat": 4,
 "nbformat_minor": 2
}
