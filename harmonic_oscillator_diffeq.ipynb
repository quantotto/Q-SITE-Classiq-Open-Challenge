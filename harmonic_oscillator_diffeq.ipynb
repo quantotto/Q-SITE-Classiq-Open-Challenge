{
 "cells": [
  {
   "cell_type": "markdown",
   "metadata": {},
   "source": [
    "# Classiq Challenge Solution\n",
    "\n",
    "Submitted by team Quantotto"
   ]
  },
  {
   "cell_type": "code",
   "execution_count": 2,
   "metadata": {},
   "outputs": [],
   "source": [
    "from classiq import *\n",
    "from classiq.execution import (\n",
    "    ClassiqBackendPreferences,\n",
    "    ClassiqSimulatorBackendNames,\n",
    "    ExecutionPreferences,\n",
    ")\n",
    "import numpy as np\n",
    "import math"
   ]
  },
  {
   "cell_type": "code",
   "execution_count": 3,
   "metadata": {},
   "outputs": [],
   "source": [
    "def analytical_solution(boundary_condition, x):\n",
    "    return boundary_condition[0] * np.cos(x) + boundary_condition[1] * np.sin(x)"
   ]
  },
  {
   "cell_type": "code",
   "execution_count": 4,
   "metadata": {},
   "outputs": [],
   "source": [
    "def norm(a):\n",
    "    return np.linalg.norm(a)\n",
    "\n",
    "def normalize(a):\n",
    "    return list(np.array(a) / norm(a))\n",
    "\n",
    "def sqrt_sum(a):\n",
    "    return np.sqrt(np.sum(np.array(a)))\n",
    "\n",
    "def create_unitary(first_column):\n",
    "    k = len(first_column)\n",
    "    added_rows = []\n",
    "    for i in range(k-1):\n",
    "        row = [0] * k\n",
    "        row[i] = 1\n",
    "        added_rows.append(row)\n",
    "    A = np.array([\n",
    "        normalize(first_column),\n",
    "        *added_rows\n",
    "    ]).T\n",
    "    n = A.shape[1]\n",
    "    # Use Gram-Schmidt orthogonalization\n",
    "    # Credits: https://www.mycompiler.io/view/Di9dsPfR4gy\n",
    "    for i in range(1, n):\n",
    "        for j in range(i):\n",
    "            A[:, i] = A[:, i] - np.dot(A[:, j], A[:, i]) * A[:, j]\n",
    "            A[:, i] = A[:, i] / np.linalg.norm(A[:, i])\n",
    "    return A.tolist()"
   ]
  },
  {
   "cell_type": "code",
   "execution_count": 5,
   "metadata": {},
   "outputs": [],
   "source": [
    "def calculate_Cs(t, k):\n",
    "    arr = [((t) ** i) / math.factorial(i) for i in range(k+1)]\n",
    "    return arr\n",
    "\n",
    "def calculate_V():\n",
    "    return [[1, 0], [0, -1]]\n",
    "\n",
    "def calculate_Vs1(Cs):\n",
    "    first_col = normalize(np.sqrt(np.array(Cs)).tolist())\n",
    "    return create_unitary(first_col)"
   ]
  },
  {
   "cell_type": "code",
   "execution_count": 6,
   "metadata": {},
   "outputs": [],
   "source": [
    "@qfunc\n",
    "def prep_qubits(Vs1: CArray[CArray[CReal]], approximator: QArray, phi: QBit):\n",
    "    unitary(Vs1, approximator)\n",
    "\n",
    "@qfunc\n",
    "def encode(V: CArray[CReal], Vs1: CArray[CArray[CReal]], ancilla: QBit, approximator: QArray, phi: QBit):\n",
    "    unitary(V, ancilla)\n",
    "    control(ctrl=ancilla==0, stmt_block=lambda: prep_qubits(Vs1, approximator, phi))\n",
    "\n",
    "@qfunc\n",
    "def approximate(A: CArray[CArray[CReal]], normalized_x0: CArray[CReal], approximator: QNum, phi: QBit):\n",
    "    inplace_prepare_amplitudes(normalized_x0, bound=0.01, target=phi)\n",
    "    repeat(2 ** approximator.size, lambda i: control(approximator==i, lambda: power(i, lambda: unitary(A, phi))))\n"
   ]
  },
  {
   "cell_type": "code",
   "execution_count": 7,
   "metadata": {},
   "outputs": [],
   "source": [
    "# inputs for y'' + y = 0\n",
    "x0 = [1.0, 1.0]       # Boundary conditions\n",
    "A = [[0, 1], [-1, 0]]              # Linear equations (unitary)\n",
    "k = 7                              # order of approximation\n",
    "t = np.pi / 3\n",
    "total_qubits = int(np.log2(k+1)) + 2\n",
    "Cs = calculate_Cs(t, k)\n",
    "V = calculate_V()\n",
    "Vs1 = calculate_Vs1(Cs)\n",
    "normalized_x0 = normalize(x0)\n",
    "\n",
    "@qfunc\n",
    "def main(\n",
    "    phi: Output[QBit],\n",
    "    approximator: Output[QNum],\n",
    "    ancilla: Output[QBit]\n",
    "):\n",
    "    allocate(1, phi)\n",
    "    allocate(int(np.log2(k+1)), approximator)\n",
    "    allocate(1, ancilla)\n",
    "    within_apply(\n",
    "        within=lambda: encode(V, Vs1, ancilla, approximator, phi),\n",
    "        apply=lambda: approximate(A, normalized_x0, approximator, phi)\n",
    "    )"
   ]
  },
  {
   "cell_type": "code",
   "execution_count": 8,
   "metadata": {},
   "outputs": [],
   "source": [
    "qmod = create_model(main)\n",
    "qprog = synthesize(qmod)\n",
    "# show(qprog)"
   ]
  },
  {
   "cell_type": "code",
   "execution_count": 39,
   "metadata": {},
   "outputs": [],
   "source": [
    "# write_qmod(create_model(main), \"diffeq_3rd_order_approx\")"
   ]
  },
  {
   "cell_type": "code",
   "execution_count": 9,
   "metadata": {},
   "outputs": [],
   "source": [
    "def state_vector_keys(qubits: int) -> tuple[str, str]:\n",
    "    return \"0\" * qubits, \"0\" * (qubits-1) + \"1\"\n",
    "\n",
    "backend_preferences = ClassiqBackendPreferences(\n",
    "    backend_name=ClassiqSimulatorBackendNames.SIMULATOR_STATEVECTOR\n",
    ")\n",
    "\n",
    "def calculate_energies(t) -> tuple[float, float, float]:\n",
    "    # Calculate kinetic and potential energy at time t\n",
    "    # We return a tuple of kinetic, potential (calculated by quantum algorithm)\n",
    "    # and analytical solution for x (for reference)\n",
    "    # Returns: tuple[kinetic, potential, x_analytical]\n",
    "\n",
    "    # Calculate model parameters\n",
    "    global Cs, V, Vs1, normalized_x0\n",
    "    Cs = calculate_Cs(t, k)\n",
    "    V = calculate_V()\n",
    "    Vs1 = calculate_Vs1(Cs)\n",
    "    normalized_x0 = normalize(x0)\n",
    "\n",
    "    # Create, synthesize and execute the model\n",
    "    quantum_model = create_model(main,\n",
    "        execution_preferences=ExecutionPreferences(\n",
    "            num_shots=1024, backend_preferences=backend_preferences\n",
    "        )\n",
    "    )\n",
    "    quantum_program = synthesize(quantum_model)\n",
    "    res = execute(quantum_program)\n",
    "\n",
    "    # post-select results with ancilla and approximator qubits equal to 0\n",
    "    amps = [\n",
    "        ps.amplitude for ps in res.result()[0].value.parsed_state_vector\n",
    "        if ps[\"approximator\"] == 0 and ps[\"ancilla\"] == 0\n",
    "    ]\n",
    "    # Re-scale amplitudes\n",
    "    total_prob = (amps[0] * amps[0].conjugate() + amps[1] * amps[1].conjugate())\n",
    "    \n",
    "    # Extract position and velocity (position is the y(t) and velocity y'(t))\n",
    "    # Position is amplitude of phi=0 and velocity is amplitude of phi=1\n",
    "    X_key, V_key = state_vector_keys(total_qubits)\n",
    "    X_amp = complex(res.result()[0].value.state_vector[X_key]) / np.sqrt(total_prob)\n",
    "    V_amp = complex(res.result()[0].value.state_vector[V_key]) / np.sqrt(total_prob)\n",
    "\n",
    "    # Calculate real values and rescale the values by norm of x0\n",
    "    Xt = np.sqrt((X_amp * X_amp.conjugate()).real) * norm(x0)\n",
    "    Vt = np.sqrt((V_amp * V_amp.conjugate()).real) * norm(x0)\n",
    "    return (Vt ** 2) / 2, (Xt ** 2) / 2, (analytical_solution(x0, t) ** 2) / 2"
   ]
  },
  {
   "cell_type": "code",
   "execution_count": 10,
   "metadata": {},
   "outputs": [],
   "source": [
    "t_axis = np.linspace(0.1, 1.0, 10)\n",
    "ks, ps, pas = [], [], []\n",
    "for t in t_axis:\n",
    "    kinetic, potential, potential_analytical = calculate_energies(t)\n",
    "    ks.append(kinetic)\n",
    "    ps.append(potential)\n",
    "    pas.append(potential_analytical)\n"
   ]
  },
  {
   "cell_type": "code",
   "execution_count": 11,
   "metadata": {},
   "outputs": [
    {
     "data": {
      "image/png": "[encoded data removed]",
      "text/plain": [
       "<Figure size 640x480 with 1 Axes>"
      ]
     },
     "metadata": {},
     "output_type": "display_data"
    }
   ],
   "source": [
    "from matplotlib import pyplot as plt\n",
    "\n",
    "fig, ax = plt.subplots()\n",
    "\n",
    "ax.plot(t_axis, ks, label=\"Kinetic (quantum)\")\n",
    "ax.plot(t_axis, ps, label=\"Potential(quantum)\")\n",
    "# ax.plot(t_axis, pas, label=\"Potential (analytical)\")\n",
    "ax.set_xlabel(\"Time\")\n",
    "ax.set_ylabel(\"Energy\")\n",
    "ax.legend()\n",
    "\n",
    "ax.set_title(f\"Kinetic and Potential Energies (x0={x0})\")\n",
    "plt.show()"
   ]
  },
  {
   "cell_type": "code",
   "execution_count": null,
   "metadata": {},
   "outputs": [],
   "source": [
    "amps = [ps.amplitude for ps in res.result()[0].value.parsed_state_vector if ps[\"approximator\"] == 0 and ps[\"ancilla\"] == 0]\n",
    "Nsq = sum(Cs)\n",
    "total_prob = (amps[0]*amps[0].conjugate() + amps[1] * amps[1].conjugate())\n",
    "Xt = np.sqrt((amps[0]*amps[0].conjugate() / total_prob).real)\n",
    "Xt*np.sqrt(Nsq)"
   ]
  },
  {
   "cell_type": "code",
   "execution_count": null,
   "metadata": {},
   "outputs": [],
   "source": [
    "analytical = np.cos(t) + np.sin(t)\n",
    "quantum = (np.sqrt(complex(sv[\"0000\"])*1j) + np.sqrt(complex(sv[\"0001\"])*1j)).real\n",
    "print(f\"Analytical: {analytical:.4f}; Quantum: {quantum:.4f}\")"
   ]
  },
  {
   "cell_type": "code",
   "execution_count": null,
   "metadata": {},
   "outputs": [],
   "source": [
    "np.cos(3 * np.pi / 8) + np.sin(3 * np.pi / 8)"
   ]
  },
  {
   "cell_type": "code",
   "execution_count": 141,
   "metadata": {},
   "outputs": [],
   "source": [
    "t = 2 * np.pi / 3\n",
    "@qfunc\n",
    "def main(phi: Output[QBit]):\n",
    "    allocate(1, phi)\n",
    "    H(phi)\n",
    "    RY(2*t, phi)"
   ]
  },
  {
   "cell_type": "code",
   "execution_count": null,
   "metadata": {},
   "outputs": [],
   "source": [
    "backend_preferences = ClassiqBackendPreferences(\n",
    "    backend_name=ClassiqSimulatorBackendNames.SIMULATOR_STATEVECTOR\n",
    ")\n",
    "quantum_model = create_model(main,\n",
    "    execution_preferences=ExecutionPreferences(\n",
    "        num_shots=1024, backend_preferences=backend_preferences\n",
    "    )\n",
    ")\n",
    "quantum_program = synthesize(quantum_model)\n",
    "res = execute(quantum_program)\n",
    "analytical = np.cos(t) + np.sin(t)\n",
    "amps = np.array([ps.amplitude for ps in res.result()[0].value.parsed_state_vector]) * norm([1.0, 1.0])\n",
    "print(f\"Analytical={analytical}; Quantum amps={amps}\")\n",
    "print(complex(res.result()[0].value.state_vector[\"1\"]) * norm([1.0, 1.0]))\n"
   ]
  },
  {
   "cell_type": "code",
   "execution_count": null,
   "metadata": {},
   "outputs": [],
   "source": []
  }
 ],
 "metadata": {
  "kernelspec": {
   "display_name": "clqenv",
   "language": "python",
   "name": "python3"
  },
  "language_info": {
   "codemirror_mode": {
    "name": "ipython",
    "version": 3
   },
   "file_extension": ".py",
   "mimetype": "text/x-python",
   "name": "python",
   "nbconvert_exporter": "python",
   "pygments_lexer": "ipython3",
   "version": "3.10.11"
  }
 },
 "nbformat": 4,
 "nbformat_minor": 2
}
