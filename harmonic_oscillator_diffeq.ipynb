{
 "cells": [
  {
   "cell_type": "markdown",
   "metadata": {},
   "source": [
    "# Classiq Challenge Solution\n",
    "\n",
    "Submitted by team Quantotto"
   ]
  },
  {
   "cell_type": "code",
   "execution_count": 1,
   "metadata": {},
   "outputs": [],
   "source": [
    "from classiq import *\n",
    "import numpy as np\n",
    "import math"
   ]
  },
  {
   "cell_type": "code",
   "execution_count": 13,
   "metadata": {},
   "outputs": [],
   "source": [
    "def norm(a):\n",
    "    b = np.array(a)\n",
    "    return np.sqrt(np.einsum('i,i', b, b))\n",
    "\n",
    "def normalize(a):\n",
    "    return list(np.array(a) / norm(a))\n",
    "\n",
    "def sqrt_sum(a):\n",
    "    return np.sqrt(np.sum(np.array(a)))"
   ]
  },
  {
   "cell_type": "code",
   "execution_count": 14,
   "metadata": {},
   "outputs": [],
   "source": [
    "def calculate_Cs(x0, t, k):\n",
    "    x0_norm = norm(x0)\n",
    "    arr = [x0_norm * (t ** i) / math.factorial(i) for i in range(k+1)]\n",
    "    return arr"
   ]
  },
  {
   "cell_type": "code",
   "execution_count": 56,
   "metadata": {},
   "outputs": [],
   "source": [
    "def calculate_V(Cs):\n",
    "    return [[1, 0], [0, -1]]\n",
    "\n",
    "def calculate_Vs1(Cs, k):\n",
    "    assert k == 1\n",
    "    C = sqrt_sum(Cs)\n",
    "    return [[np.sqrt(Cs[0]) / C, np.sqrt(Cs[1]) / C], [-np.sqrt(Cs[1]) / C, np.sqrt(Cs[0]) / C]]"
   ]
  },
  {
   "cell_type": "code",
   "execution_count": 57,
   "metadata": {},
   "outputs": [],
   "source": [
    "@qfunc\n",
    "def prep_qubits(Vs1: CArray[CArray[CReal]], normalized_x0: CArray[CReal], approximator: QBit, phi: QBit):\n",
    "    unitary(Vs1, approximator)\n",
    "    inplace_prepare_amplitudes(normalized_x0, bound=0.01, target=phi)\n",
    "\n",
    "@qfunc\n",
    "def encode(V: CArray[CReal], Vs1: CArray[CArray[CReal]], normalized_x0: CArray[CReal], ancilla: Output[QBit], approximator: Output[QBit], phi: QBit):\n",
    "    allocate(1, ancilla)\n",
    "    allocate(1, approximator)\n",
    "    unitary(V, ancilla)\n",
    "    control(ctrl=ancilla==0, stmt_block=lambda: prep_qubits(Vs1, normalized_x0, approximator, phi))\n",
    "\n",
    "@qfunc\n",
    "def approximate(A: CArray[CArray[CReal]], approximator: QBit, phi: QBit):\n",
    "    control(ctrl=approximator==0, stmt_block=lambda: apply_to_all(IDENTITY, phi))\n",
    "    control(ctrl=approximator==1, stmt_block=lambda: unitary(A, phi))"
   ]
  },
  {
   "cell_type": "code",
   "execution_count": 60,
   "metadata": {},
   "outputs": [],
   "source": [
    "# inputs for y'' + y = 0\n",
    "x0 = [1.0, 1.0]                    # Boundary conditions\n",
    "A = [[0, 1], [-1, 0]]              # Linear equations (unitary)\n",
    "t = np.pi / 8                      # evolution time (calculating x(t))\n",
    "k = 1                              # order of approximation\n",
    "\n",
    "Cs = calculate_Cs(x0, t, k)\n",
    "V = calculate_V(Cs)\n",
    "Vs1 = calculate_Vs1(Cs, k)\n",
    "normalized_x0 = normalize(x0)\n",
    "\n",
    "@qfunc\n",
    "def main(phi: Output[QBit]):\n",
    "    ancilla = QBit(\"ancilla\")\n",
    "    approximator = QBit(\"approximator\")\n",
    "    allocate(1, phi)\n",
    "    within_apply(\n",
    "        within=lambda: encode(V, Vs1, normalized_x0, ancilla, approximator, phi),\n",
    "        apply=lambda: approximate(A, approximator, phi)\n",
    "    )"
   ]
  },
  {
   "cell_type": "code",
   "execution_count": 62,
   "metadata": {},
   "outputs": [],
   "source": [
    "qmod = create_model(main)\n",
    "qprog = synthesize(qmod)\n",
    "show(qprog)"
   ]
  },
  {
   "cell_type": "code",
   "execution_count": 68,
   "metadata": {},
   "outputs": [],
   "source": [
    "write_qmod(create_model(main), \"diffeq\")"
   ]
  },
  {
   "cell_type": "code",
   "execution_count": 67,
   "metadata": {},
   "outputs": [
    {
     "data": {
      "text/plain": [
       "5.6117547256097104"
      ]
     },
     "execution_count": 67,
     "metadata": {},
     "output_type": "execute_result"
    }
   ],
   "source": [
    "np.pi / np.arcsin(np.sqrt(0.282))"
   ]
  },
  {
   "cell_type": "code",
   "execution_count": null,
   "metadata": {},
   "outputs": [],
   "source": []
  }
 ],
 "metadata": {
  "kernelspec": {
   "display_name": "clqenv",
   "language": "python",
   "name": "python3"
  },
  "language_info": {
   "codemirror_mode": {
    "name": "ipython",
    "version": 3
   },
   "file_extension": ".py",
   "mimetype": "text/x-python",
   "name": "python",
   "nbconvert_exporter": "python",
   "pygments_lexer": "ipython3",
   "version": "3.10.11"
  }
 },
 "nbformat": 4,
 "nbformat_minor": 2
}
