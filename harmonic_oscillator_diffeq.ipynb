{
 "cells": [
  {
   "cell_type": "markdown",
   "metadata": {},
   "source": [
    "# Classiq Challenge Solution\n",
    "\n",
    "Submitted by team Quantotto"
   ]
  },
  {
   "cell_type": "code",
   "execution_count": 1,
   "metadata": {},
   "outputs": [],
   "source": [
    "from classiq import *\n",
    "from classiq.execution import (\n",
    "    ClassiqBackendPreferences,\n",
    "    ClassiqSimulatorBackendNames,\n",
    "    ExecutionPreferences,\n",
    ")\n",
    "import numpy as np\n",
    "import math"
   ]
  },
  {
   "cell_type": "code",
   "execution_count": 52,
   "metadata": {},
   "outputs": [],
   "source": [
    "def norm(a):\n",
    "    return np.linalg.norm(a)\n",
    "\n",
    "def normalize(a):\n",
    "    return list(np.array(a) / norm(a))\n",
    "\n",
    "def sqrt_sum(a):\n",
    "    return np.sqrt(np.sum(np.array(a)))\n",
    "\n",
    "def create_unitary(first_column):\n",
    "    k = len(first_column)\n",
    "    added_rows = []\n",
    "    for i in range(k-1):\n",
    "        row = [0] * k\n",
    "        row[i] = 1\n",
    "        added_rows.append(row)\n",
    "    A = np.array([\n",
    "        normalize(first_column),\n",
    "        *added_rows\n",
    "    ]).T\n",
    "    n = A.shape[1]\n",
    "    # Use Gram-Schmidt orthogonalization\n",
    "    # Credits: https://www.mycompiler.io/view/Di9dsPfR4gy\n",
    "    for i in range(1, n):\n",
    "        for j in range(i):\n",
    "            A[:, i] = A[:, i] - np.dot(A[:, j], A[:, i]) * A[:, j]\n",
    "            A[:, i] = A[:, i] / np.linalg.norm(A[:, i])\n",
    "    return A.tolist()"
   ]
  },
  {
   "cell_type": "code",
   "execution_count": 53,
   "metadata": {},
   "outputs": [],
   "source": [
    "def calculate_Cs(x0, A, t, k):\n",
    "    x0_norm = norm(x0)\n",
    "    A_norm = norm(A)\n",
    "    arr = [x0_norm * ((A_norm * t) ** i) / math.factorial(i) for i in range(k+1)]\n",
    "    return arr\n",
    "\n",
    "def calculate_V(Cs):\n",
    "    return [[1, 0], [0, -1]]\n",
    "\n",
    "def calculate_Vs1(Cs):\n",
    "    first_row = normalize(np.sqrt(np.array(Cs)).tolist())\n",
    "    return create_unitary(first_row)"
   ]
  },
  {
   "cell_type": "code",
   "execution_count": 54,
   "metadata": {},
   "outputs": [
    {
     "data": {
      "text/plain": [
       "array([2., 3., 4.])"
      ]
     },
     "execution_count": 54,
     "metadata": {},
     "output_type": "execute_result"
    }
   ],
   "source": [
    "arr = np.array([4, 9, 16])\n",
    "np.sqrt(arr)"
   ]
  },
  {
   "cell_type": "code",
   "execution_count": 89,
   "metadata": {},
   "outputs": [],
   "source": [
    "@qfunc\n",
    "def prep_qubits(Vs1: CArray[CArray[CReal]], normalized_x0: CArray[CReal], approximator: QArray, phi: QBit):\n",
    "    unitary(Vs1, approximator)\n",
    "    inplace_prepare_amplitudes(normalized_x0, bound=0.01, target=phi)\n",
    "\n",
    "@qfunc\n",
    "def encode(V: CArray[CReal], Vs1: CArray[CArray[CReal]], normalized_x0: CArray[CReal], ancilla: QBit, approximator: QArray, phi: QBit):\n",
    "    unitary(V, ancilla)\n",
    "    control(ctrl=ancilla==0, stmt_block=lambda: prep_qubits(Vs1, normalized_x0, approximator, phi))\n",
    "\n",
    "@qfunc\n",
    "def approximate(A: CArray[CArray[CReal]], approximator: QNum, phi: QBit):\n",
    "    repeat(2 ** approximator.size, lambda i: control(approximator==i, lambda: power(i, lambda: unitary(A, phi))))\n"
   ]
  },
  {
   "cell_type": "code",
   "execution_count": 129,
   "metadata": {},
   "outputs": [],
   "source": [
    "# inputs for y'' + y = 0\n",
    "x0 = [1.0, 1.0]                    # Boundary conditions\n",
    "A = [[0, 1], [-1, 0]]              # Linear equations (unitary)\n",
    "k = 1                              # order of approximation\n",
    "t = 0.2\n",
    "Cs = calculate_Cs(x0, A, t, k)\n",
    "V = calculate_V(Cs)\n",
    "Vs1 = calculate_Vs1(Cs)\n",
    "normalized_x0 = normalize(x0)\n",
    "\n",
    "@qfunc\n",
    "def main(\n",
    "    phi: Output[QBit],\n",
    "    approximator: Output[QNum],\n",
    "    ancilla: Output[QBit]\n",
    "):\n",
    "    allocate(1, phi)\n",
    "    allocate(int(np.log2(k+1)), approximator)\n",
    "    allocate(1, ancilla)\n",
    "    within_apply(\n",
    "        within=lambda: encode(V, Vs1, normalized_x0, ancilla, approximator, phi),\n",
    "        apply=lambda: approximate(A, approximator, phi)\n",
    "    )"
   ]
  },
  {
   "cell_type": "code",
   "execution_count": 119,
   "metadata": {},
   "outputs": [],
   "source": [
    "qmod = create_model(main)\n",
    "qprog = synthesize(qmod)\n",
    "# show(qprog)"
   ]
  },
  {
   "cell_type": "code",
   "execution_count": 92,
   "metadata": {},
   "outputs": [],
   "source": [
    "write_qmod(create_model(main), \"diffeq_7th_order_approx\")"
   ]
  },
  {
   "cell_type": "code",
   "execution_count": 134,
   "metadata": {},
   "outputs": [
    {
     "name": "stdout",
     "output_type": "stream",
     "text": [
      "Amplitudes: [(2.2468336542210172e-15+0.5969303796759274j), (5.042541100967603e-16+0.4030696203240726j)]\n",
      "State vector: {'000': '(5.042541100967603e-16+0.4030696203240726j)', '001': '(2.2468336542210172e-15+0.5969303796759274j)', '010': '(1.6027849279214216e-15+0.49051452730360634j)', '011': '(-2.6991301647387637e-15-0.4905145273036069j)', '100': '(-3.6389716260063393e-16+2.2204460492503146e-16j)', '101': '(-1.0222643413894759e-16+8.326672684688665e-17j)', '110': '(-2.5475798941375867e-17+5.551115123125776e-17j)', '111': '(1.6425367701952044e-16+6.372051350898715e-32j)'}\n",
      "Analytical: 1.3660; Xt: (8.112336469838273e-15+2.155255276643228j); t=1.0471975511965976; N^2=3.5086086647662906\n",
      "Amplitudes: [(2.246755133569785e-15+0.747597249414296j), (7.412120870574439e-17+0.25240275058570366j)]\n",
      "State vector: {'000': '(7.412120870574439e-17+0.25240275058570366j)', '001': '(2.246755133569785e-15+0.747597249414296j)', '010': '(1.1622637941093526e-15+0.43439107044513975j)', '011': '(-1.7173753064219308e-15-0.43439107044514036j)', '100': '(-3.1761169635750837e-16+1.804112415015881e-16j)', '101': '(-1.2075632476644425e-16+1.1102230246251558e-16j)', '110': '(-1.156793915687257e-18+2.7755575615628852e-17j)', '111': '(1.399346719938318e-16+2.775557561562893e-17j)'}\n",
      "Analytical: 0.3660; Xt: (8.541830476934326e-15+2.842254090846594j); t=2.0943951023931953; N^2=5.603003767159486\n"
     ]
    }
   ],
   "source": [
    "\n",
    "\n",
    "\n",
    "backend_preferences = ClassiqBackendPreferences(\n",
    "    backend_name=ClassiqSimulatorBackendNames.SIMULATOR_STATEVECTOR\n",
    ")\n",
    "a_solutions = []\n",
    "q1_solutions = []\n",
    "q2_solutions = []\n",
    "t_axis = np.linspace(np.pi/3, 2 * np.pi / 3, 2)\n",
    "for t in t_axis:\n",
    "    Cs = calculate_Cs(x0, A, t, k)\n",
    "    V = calculate_V(Cs)\n",
    "    Vs1 = calculate_Vs1(Cs)\n",
    "    normalized_x0 = normalize(x0)\n",
    "\n",
    "    quantum_model = create_model(main,\n",
    "        execution_preferences=ExecutionPreferences(\n",
    "            num_shots=1024, backend_preferences=backend_preferences\n",
    "        )\n",
    "    )\n",
    "    quantum_program = synthesize(quantum_model)\n",
    "    res = execute(quantum_program)\n",
    "    Nsq = sum(Cs)\n",
    "    analytical = np.cos(t) + np.sin(t)\n",
    "    amps = [ps.amplitude for ps in res.result()[0].value.parsed_state_vector if ps[\"approximator\"] == 0 and ps[\"ancilla\"] == 0]\n",
    "    print(f\"Amplitudes: {amps}\")\n",
    "    print(f\"State vector: {res.result()[0].value.state_vector}\")\n",
    "    total_prob = (amps[0]*amps[0].conjugate() + amps[1] * amps[1].conjugate())\n",
    "    Xt = (complex(res.result()[0].value.state_vector[\"001\"]) / total_prob) * np.sqrt(Nsq)\n",
    "    \n",
    "    print(f\"Analytical: {analytical:.4f}; Xt: {Xt}; t={t}; N^2={sum(Cs)}\")\n",
    "    a_solutions.append(analytical)\n",
    "    q1_solutions.append(Xt)"
   ]
  },
  {
   "cell_type": "code",
   "execution_count": 140,
   "metadata": {},
   "outputs": [
    {
     "data": {
      "text/plain": [
       "1.057266059230126"
      ]
     },
     "execution_count": 140,
     "metadata": {},
     "output_type": "execute_result"
    }
   ],
   "source": [
    "0.7476 * np.sqrt(2)"
   ]
  },
  {
   "cell_type": "code",
   "execution_count": 115,
   "metadata": {},
   "outputs": [
    {
     "data": {
      "image/png": "[encoded data removed]",
      "text/plain": [
       "<Figure size 640x480 with 1 Axes>"
      ]
     },
     "metadata": {},
     "output_type": "display_data"
    }
   ],
   "source": [
    "from matplotlib import pyplot as plt\n",
    "\n",
    "plt.plot(t_axis, a_solutions)\n",
    "plt.plot(t_axis, (np.array([2] * len(q0_solutions)) - q0_solutions) / np.sqrt(2))\n",
    "plt.show()"
   ]
  },
  {
   "cell_type": "code",
   "execution_count": null,
   "metadata": {},
   "outputs": [],
   "source": [
    "amps = [ps.amplitude for ps in res.result()[0].value.parsed_state_vector if ps[\"approximator\"] == 0 and ps[\"ancilla\"] == 0]\n",
    "Nsq = sum(Cs)\n",
    "total_prob = (amps[0]*amps[0].conjugate() + amps[1] * amps[1].conjugate())\n",
    "Xt = np.sqrt((amps[0]*amps[0].conjugate() / total_prob).real)\n",
    "Xt*np.sqrt(Nsq)"
   ]
  },
  {
   "cell_type": "code",
   "execution_count": null,
   "metadata": {},
   "outputs": [],
   "source": [
    "analytical = np.cos(t) + np.sin(t)\n",
    "quantum = (np.sqrt(complex(sv[\"0000\"])*1j) + np.sqrt(complex(sv[\"0001\"])*1j)).real\n",
    "print(f\"Analytical: {analytical:.4f}; Quantum: {quantum:.4f}\")"
   ]
  },
  {
   "cell_type": "code",
   "execution_count": null,
   "metadata": {},
   "outputs": [],
   "source": [
    "np.cos(3 * np.pi / 8) + np.sin(3 * np.pi / 8)"
   ]
  },
  {
   "cell_type": "code",
   "execution_count": 141,
   "metadata": {},
   "outputs": [],
   "source": [
    "t = 2 * np.pi / 3\n",
    "@qfunc\n",
    "def main(phi: Output[QBit]):\n",
    "    allocate(1, phi)\n",
    "    H(phi)\n",
    "    RY(2*t, phi)"
   ]
  },
  {
   "cell_type": "code",
   "execution_count": 142,
   "metadata": {},
   "outputs": [
    {
     "name": "stdout",
     "output_type": "stream",
     "text": [
      "Analytical=0.36602540378443893; Quantum amps=[-1.3660254+0.j  0.3660254+0.j]\n",
      "(0.36602540378443965+0j)\n"
     ]
    }
   ],
   "source": [
    "backend_preferences = ClassiqBackendPreferences(\n",
    "    backend_name=ClassiqSimulatorBackendNames.SIMULATOR_STATEVECTOR\n",
    ")\n",
    "quantum_model = create_model(main,\n",
    "    execution_preferences=ExecutionPreferences(\n",
    "        num_shots=1024, backend_preferences=backend_preferences\n",
    "    )\n",
    ")\n",
    "quantum_program = synthesize(quantum_model)\n",
    "res = execute(quantum_program)\n",
    "analytical = np.cos(t) + np.sin(t)\n",
    "amps = np.array([ps.amplitude for ps in res.result()[0].value.parsed_state_vector]) * norm([1.0, 1.0])\n",
    "print(f\"Analytical={analytical}; Quantum amps={amps}\")\n",
    "print(complex(res.result()[0].value.state_vector[\"1\"]) * norm([1.0, 1.0]))\n"
   ]
  },
  {
   "cell_type": "code",
   "execution_count": null,
   "metadata": {},
   "outputs": [],
   "source": []
  }
 ],
 "metadata": {
  "kernelspec": {
   "display_name": "clqenv",
   "language": "python",
   "name": "python3"
  },
  "language_info": {
   "codemirror_mode": {
    "name": "ipython",
    "version": 3
   },
   "file_extension": ".py",
   "mimetype": "text/x-python",
   "name": "python",
   "nbconvert_exporter": "python",
   "pygments_lexer": "ipython3",
   "version": "3.10.11"
  }
 },
 "nbformat": 4,
 "nbformat_minor": 2
}
